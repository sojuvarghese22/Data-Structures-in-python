{
  "nbformat": 4,
  "nbformat_minor": 0,
  "metadata": {
    "colab": {
      "name": "Making dictionary manually.ipynb",
      "provenance": [],
      "authorship_tag": "ABX9TyOP2Z10yD06yKgmeRLPkWTM",
      "include_colab_link": true
    },
    "kernelspec": {
      "name": "python3",
      "display_name": "Python 3"
    },
    "language_info": {
      "name": "python"
    }
  },
  "cells": [
    {
      "cell_type": "markdown",
      "metadata": {
        "id": "view-in-github",
        "colab_type": "text"
      },
      "source": [
        "<a href=\"https://colab.research.google.com/github/sojuvarghese22/Data-Structures-in-python/blob/main/Making_dictionary_manually.ipynb\" target=\"_parent\"><img src=\"https://colab.research.google.com/assets/colab-badge.svg\" alt=\"Open In Colab\"/></a>"
      ]
    },
    {
      "cell_type": "code",
      "execution_count": 2,
      "metadata": {
        "colab": {
          "base_uri": "https://localhost:8080/"
        },
        "id": "OK3xGK5RYPMJ",
        "outputId": "f913a41a-d725-4eea-ce5a-faef2c5175c8"
      },
      "outputs": [
        {
          "output_type": "stream",
          "name": "stdout",
          "text": [
            "9090\n",
            "['Aakash']\n"
          ]
        }
      ],
      "source": [
        "\n",
        "#Program of making a dictionary\n",
        "\n",
        "\n",
        "#Function which will return index from explicitly made list\n",
        "def get_index(data_list, a_string):\n",
        "    result = 0\n",
        "    for a_character in  a_string:\n",
        "        a_number = ord(a_character)\n",
        "        result += a_number\n",
        "    list_index = result%len(data_list)\n",
        "    return list_index\n",
        "\n",
        "#Function which perform all dictionary operation i.e insertion, updation, finding key and value, displaying all elements\n",
        "\n",
        "class BasicHashtTable:\n",
        "    def __init__(self):\n",
        "        self.data_list = [None]*200\n",
        "    #Function which insert key and value\n",
        "    def insert(self,key,value):\n",
        "        idx = get_index(self.data_list,key)\n",
        "        self.data_list[idx] = (key, value)\n",
        "    #Function which find value and return value\n",
        "    def find(self,key):\n",
        "        idx = get_index(self.data_list, key)\n",
        "        kv = self.data_list[idx]\n",
        "        if kv is None:\n",
        "            return None\n",
        "        else:\n",
        "            key, value = kv\n",
        "            return value\n",
        "    #Function which update data \n",
        "    def update(self, key, value):\n",
        "        idx = get_index(self.data_list, key)\n",
        "        self.data_list[idx] = (key, value)\n",
        "    #Function which will return all key \n",
        "    def list_all(self):\n",
        "        return [kv[0] for kv in self.data_list if kv is not None ]\n",
        "# Object Creation \n",
        "basic_table = BasicHashtTable()\n",
        "# Function(insert) call with arguments \n",
        "basic_table.insert('Aakash','9999999999')\n",
        "# Function(update) call with arguments \n",
        "\n",
        "basic_table.update('Aakash',9090)\n",
        "# Function(find) call with arguments \n",
        "\n",
        "print(basic_table.find('Aakash'))\n",
        "# Function(list_all) call \n",
        "\n",
        "print(basic_table.list_all())"
      ]
    }
  ]
}