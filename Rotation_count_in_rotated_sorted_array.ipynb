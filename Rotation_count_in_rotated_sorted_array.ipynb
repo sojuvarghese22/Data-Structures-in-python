{
  "nbformat": 4,
  "nbformat_minor": 0,
  "metadata": {
    "colab": {
      "name": "Rotation count in rotated sorted array.ipynb",
      "provenance": [],
      "authorship_tag": "ABX9TyNRPHD3vkow6esWhtPEPonH",
      "include_colab_link": true
    },
    "kernelspec": {
      "name": "python3",
      "display_name": "Python 3"
    },
    "language_info": {
      "name": "python"
    }
  },
  "cells": [
    {
      "cell_type": "markdown",
      "metadata": {
        "id": "view-in-github",
        "colab_type": "text"
      },
      "source": [
        "<a href=\"https://colab.research.google.com/github/sojuvarghese22/Data-Structures-in-python/blob/main/Rotation_count_in_rotated_sorted_array.ipynb\" target=\"_parent\"><img src=\"https://colab.research.google.com/assets/colab-badge.svg\" alt=\"Open In Colab\"/></a>"
      ]
    },
    {
      "cell_type": "code",
      "execution_count": null,
      "metadata": {
        "id": "i5XE2m3gTPm4"
      },
      "outputs": [],
      "source": [
        "#Rotation count in rotated sorted array using binary search\n",
        "\n",
        "# function will return the number of rotation of element in array\n",
        "def rotated_array_binary(li):\n",
        "    #variable declaration \n",
        "    low = 0\n",
        "    high = len(li)-1\n",
        "    last = len(li)-1\n",
        "    #condition for running loop\n",
        "    while(low<=high):\n",
        "        mid = (low+high)//2\n",
        "\n",
        "        if mid>0 and li[mid]<li[mid-1]:\n",
        "            return mid\n",
        "        if li[mid]<li[last]:\n",
        "            high = mid-1\n",
        "        if li[mid]>li[last]:\n",
        "            low = mid+1\n",
        "    return 0\n",
        "#list diclaration\n",
        "li = [3,4,5,6,1,2]\n",
        "#function call and function will return the number of rotation of element in array\n",
        "print(rotated_array_binary(li))\n",
        "\n",
        " \n"
      ]
    }
  ]
}