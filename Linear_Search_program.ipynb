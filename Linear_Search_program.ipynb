{
  "nbformat": 4,
  "nbformat_minor": 0,
  "metadata": {
    "colab": {
      "name": "Linear Search program.ipynb",
      "provenance": [],
      "authorship_tag": "ABX9TyMASRkkZSBeOGqyU3J2IplO",
      "include_colab_link": true
    },
    "kernelspec": {
      "name": "python3",
      "display_name": "Python 3"
    },
    "language_info": {
      "name": "python"
    }
  },
  "cells": [
    {
      "cell_type": "markdown",
      "metadata": {
        "id": "view-in-github",
        "colab_type": "text"
      },
      "source": [
        "<a href=\"https://colab.research.google.com/github/sojuvarghese22/Data-Structures-in-python/blob/main/Linear_Search_program.ipynb\" target=\"_parent\"><img src=\"https://colab.research.google.com/assets/colab-badge.svg\" alt=\"Open In Colab\"/></a>"
      ]
    },
    {
      "cell_type": "code",
      "execution_count": 3,
      "metadata": {
        "colab": {
          "base_uri": "https://localhost:8080/"
        },
        "id": "mgJ28VfkPdyH",
        "outputId": "5ac08c0e-76a8-4ec3-a821-32d50d5c81de"
      },
      "outputs": [
        {
          "output_type": "stream",
          "name": "stdout",
          "text": [
            "Position of searched element is 2\n"
          ]
        }
      ],
      "source": [
        "# Linear search Program\n",
        "# function that will return the index of searching element\n",
        "def find_numbetr(numbers, search_element):\n",
        "    position = 0\n",
        "    while True:\n",
        "        if numbers[position] == search_element:\n",
        "            return position\n",
        "        position +=1\n",
        "        if position == len(numbers):\n",
        "\n",
        "            return -1\n",
        "#list and variable  declaration\n",
        "numbers = [22,32,345,2,456]\n",
        "search_element = 345\n",
        "# function calling(with arguments passing) for getting index of searching element\n",
        "\n",
        "print(\"Position of searched element is\",find_numbetr(numbers, search_element))"
      ]
    }
  ]
}