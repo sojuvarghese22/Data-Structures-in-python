{
  "nbformat": 4,
  "nbformat_minor": 0,
  "metadata": {
    "colab": {
      "name": "BSTprogram.ipynb",
      "provenance": [],
      "collapsed_sections": [],
      "authorship_tag": "ABX9TyNpdYgicOxB9tqHBFQiQpOF",
      "include_colab_link": true
    },
    "kernelspec": {
      "name": "python3",
      "display_name": "Python 3"
    },
    "language_info": {
      "name": "python"
    }
  },
  "cells": [
    {
      "cell_type": "markdown",
      "metadata": {
        "id": "view-in-github",
        "colab_type": "text"
      },
      "source": [
        "<a href=\"https://colab.research.google.com/github/sojuvarghese22/Data-Structures-in-python/blob/main/BSTprogram.ipynb\" target=\"_parent\"><img src=\"https://colab.research.google.com/assets/colab-badge.svg\" alt=\"Open In Colab\"/></a>"
      ]
    },
    {
      "cell_type": "code",
      "execution_count": 1,
      "metadata": {
        "colab": {
          "base_uri": "https://localhost:8080/"
        },
        "id": "CwaBUpSgIV49",
        "outputId": "b9df18ed-a9fd-4962-dbba-b96938262078"
      },
      "outputs": [
        {
          "output_type": "stream",
          "name": "stdout",
          "text": [
            "4\n",
            "6\n",
            "True\n"
          ]
        }
      ],
      "source": [
        "\n",
        "#binary search tree\n",
        "#class \n",
        "class BST:\n",
        "  #magic method used for initialization\n",
        "    def __init__(self,key):\n",
        "        self.key = key\n",
        "        self.left = None\n",
        "        self.right = None\n",
        "#function which return mininum value from BST\n",
        "    def get_minimum(self):\n",
        "        if self:\n",
        "            \n",
        "            return self.get_min(self)\n",
        "    def get_min(self,node):\n",
        "        if node.left:\n",
        "            return self.get_min(node.left)\n",
        "\n",
        "        return node.key\n",
        "\n",
        "\n",
        "#function which return maximum value from BST\n",
        "\n",
        "    \n",
        "    def get_maximum(self):\n",
        "        if self:\n",
        "            \n",
        "            return self.get_max(self)\n",
        "    def get_max(self,node):\n",
        "        if node.right:\n",
        "            return self.get_max(node.right)\n",
        "\n",
        "        return node.key\n",
        "#function  which gives sorted array of BST using inorder traversal \n",
        "    def in_order(self):\n",
        "        if self:\n",
        "            return self.in_order_check(self)\n",
        "    \n",
        "        \n",
        "        \n",
        "    \n",
        "    def in_order_check(self,node):\n",
        "        if node.left:\n",
        "            return [self.in_order_check(node.left)]+[node.key]+[self.in_order_check(node.right)]\n",
        "        return node.key\n",
        "# function which return either true or false (if Tree is BST than it will return True else false )\n",
        "    def is_BST(self):\n",
        "        res = self.in_order()\n",
        "        a=sorted(res)\n",
        "        if a == res:\n",
        "\n",
        "            return True\n",
        "        \n",
        "        return False \n",
        "        \n",
        "\n",
        "#instance creation of class BST\n",
        "obj = BST(5)\n",
        "#manually passing value to the left and right of root node\n",
        "obj.left = BST(4)\n",
        "obj.right = BST(6)\n",
        "\n",
        "#function calling using object to get minimum value from BST\n",
        "print(obj.get_minimum())\n",
        "#function calling using object to get maximum value from BST\n",
        "\n",
        "print(obj.get_maximum())\n",
        "#function calling using object to know whether binary tree is BST or not \n",
        "\n",
        "print(obj.is_BST())"
      ]
    }
  ]
}