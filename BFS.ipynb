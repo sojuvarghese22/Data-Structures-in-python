{
  "nbformat": 4,
  "nbformat_minor": 0,
  "metadata": {
    "colab": {
      "name": "BFS.ipynb",
      "provenance": [],
      "authorship_tag": "ABX9TyMgRBV6/3rSKX5qqyQrvdOm",
      "include_colab_link": true
    },
    "kernelspec": {
      "name": "python3",
      "display_name": "Python 3"
    },
    "language_info": {
      "name": "python"
    }
  },
  "cells": [
    {
      "cell_type": "markdown",
      "metadata": {
        "id": "view-in-github",
        "colab_type": "text"
      },
      "source": [
        "<a href=\"https://colab.research.google.com/github/sojuvarghese22/Data-Structures-in-python/blob/main/BFS.ipynb\" target=\"_parent\"><img src=\"https://colab.research.google.com/assets/colab-badge.svg\" alt=\"Open In Colab\"/></a>"
      ]
    },
    {
      "cell_type": "code",
      "execution_count": 2,
      "metadata": {
        "colab": {
          "base_uri": "https://localhost:8080/"
        },
        "id": "qIDmplaFMFVw",
        "outputId": "cad08d9b-173d-4604-973f-2fe6e32a58ef"
      },
      "outputs": [
        {
          "output_type": "stream",
          "name": "stdout",
          "text": [
            "[0, 1, 4, 2, 3]\n"
          ]
        }
      ],
      "source": [
        "#class \n",
        "class graph:\n",
        "    def __init__(self,vertices,edges):\n",
        "        self.data = [[] for _ in range(vertices)]\n",
        "        for v1,v2 in edges:\n",
        "            self.data[v1].append(v2)\n",
        "            self.data[v2].append(v1)\n",
        "\n",
        "     \n",
        "#variable declaration        \n",
        "vertices = 5\n",
        "#tuple creation\n",
        "edges = [(0,1),(1,2),(1,3),(1,4),(2,3),(3,4),(4,0)]\n",
        "    \n",
        "        \n",
        "#objection creation of class fraph        \n",
        "node1 = graph(vertices,edges)\n",
        "\n",
        "# BFS program\n",
        "#functio that will return visited vertices(queue variable)\n",
        "def BFS(node1,rootnode):\n",
        "    visited = [False]*vertices\n",
        "    queue = [rootnode]\n",
        "    visited[rootnode] = True\n",
        "\n",
        "    j = 0\n",
        "    #checking condition loop will run until j gets greater than length of queue\n",
        "    while(j<len(queue)):\n",
        "\n",
        "        current  = queue[j]\n",
        "        \n",
        "        for i in node1.data[current]:\n",
        "            if not visited[i]:\n",
        "                queue.append(i)\n",
        "                visited[i] = True\n",
        "\n",
        "        j = j+1\n",
        "    return queue  \n",
        "#function call\n",
        "print(BFS(node1,0))"
      ]
    }
  ]
}