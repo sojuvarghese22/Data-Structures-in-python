{
  "nbformat": 4,
  "nbformat_minor": 0,
  "metadata": {
    "colab": {
      "name": "Firstandlastpositionofrequirednumber.ipynb",
      "provenance": [],
      "authorship_tag": "ABX9TyMw2aQ1HcyCzllNQMcBGT2u",
      "include_colab_link": true
    },
    "kernelspec": {
      "name": "python3",
      "display_name": "Python 3"
    },
    "language_info": {
      "name": "python"
    }
  },
  "cells": [
    {
      "cell_type": "markdown",
      "metadata": {
        "id": "view-in-github",
        "colab_type": "text"
      },
      "source": [
        "<a href=\"https://colab.research.google.com/github/sojuvarghese22/Data-Structures-in-python/blob/main/Firstandlastpositionofrequirednumber.ipynb\" target=\"_parent\"><img src=\"https://colab.research.google.com/assets/colab-badge.svg\" alt=\"Open In Colab\"/></a>"
      ]
    },
    {
      "cell_type": "code",
      "execution_count": 1,
      "metadata": {
        "colab": {
          "base_uri": "https://localhost:8080/"
        },
        "id": "e1O-i2ntGeZ_",
        "outputId": "09c3eb44-a3d2-4c57-b0b6-8a614f4f044c"
      },
      "outputs": [
        {
          "output_type": "stream",
          "name": "stdout",
          "text": [
            "(4, 4)\n"
          ]
        }
      ],
      "source": [
        "\n",
        "#Program which gives First and last position of required number\n",
        "#generic binary program\n",
        "def binary_search(lo, hi, condition):\n",
        "    while lo<=hi:\n",
        "        mid = (lo+hi)//2\n",
        "        result = condition(mid)\n",
        "        if result == 'found':# if result gets found then it will return mid\n",
        "            return mid\n",
        "        elif result == 'left':# if result gets left it will update high variable by mid-1\n",
        "            hi = mid-1\n",
        "        else:\n",
        "            lo = mid+1#if result gets right it will update lo variable by mid+1\n",
        "    return -1\n",
        "#function will return first position of required number\n",
        "def first_position(nums, target):#taking parameter i.e nums list and required number\n",
        "    def condition(mid):#taking parameter i.e middle number of list\n",
        "        if nums[mid] == target:\n",
        "            if mid>0 and nums[mid-1] == target:\n",
        "                return 'left'          \n",
        "            return 'found' #returns found only if mid index of array is greater than first index of array and the previous element of mid index element is equal to required number\n",
        "   \n",
        "\n",
        "        elif nums[mid]<target:# return right only if mid index element is less than required number\n",
        "            return 'right'\n",
        "        else:\n",
        "            return 'left'# return left only if mid index element is grater than required number\n",
        "    return binary_search(0, len(nums)-1, condition)\n",
        "\n",
        "#function will return last position of required number        \n",
        "def last_position(nums, target):#taking parameter i.e nums list and required number\n",
        "    def condition(mid):#taking parameter i.e middle number of list\n",
        "        if nums[mid] == target:\n",
        "            if mid<len(nums)-1 and nums[mid+1] == target:\n",
        "                return 'right'\n",
        "            return 'found' #returns found only if mid index of array is less than len of array and the next element of mid index element is equal to required number \n",
        "  \n",
        "        elif nums[mid]<target:# return right only if mid index element is less than required number\n",
        "            return 'right'\n",
        "        else:\n",
        "            return 'left'# return left only if mid index element is grater than required number\n",
        "    return binary_search(0, len(nums)-1, condition)\n",
        "#function will return first and last position of required number\n",
        "def first_and_last_position(nums, target):\n",
        "    return first_position(nums, target),last_position(nums, target)  \n",
        "#list creation\n",
        "nums=[1,2,2,2,3]\n",
        "#function call\n",
        "print(first_and_last_position(nums,2))\n",
        "\n",
        "\n",
        "\n",
        "\n",
        "\n"
      ]
    }
  ]
}