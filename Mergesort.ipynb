{
  "nbformat": 4,
  "nbformat_minor": 0,
  "metadata": {
    "colab": {
      "name": "Mergesort.ipynb",
      "provenance": [],
      "authorship_tag": "ABX9TyPWh22oC0n/H/JzIYqTmpPL",
      "include_colab_link": true
    },
    "kernelspec": {
      "name": "python3",
      "display_name": "Python 3"
    },
    "language_info": {
      "name": "python"
    }
  },
  "cells": [
    {
      "cell_type": "markdown",
      "metadata": {
        "id": "view-in-github",
        "colab_type": "text"
      },
      "source": [
        "<a href=\"https://colab.research.google.com/github/sojuvarghese22/Data-Structures-in-python/blob/main/Mergesort.ipynb\" target=\"_parent\"><img src=\"https://colab.research.google.com/assets/colab-badge.svg\" alt=\"Open In Colab\"/></a>"
      ]
    },
    {
      "cell_type": "code",
      "execution_count": 7,
      "metadata": {
        "colab": {
          "base_uri": "https://localhost:8080/"
        },
        "id": "WndzATdyVFuz",
        "outputId": "4d5b8d35-4739-4e96-dece-e9eae88da068"
      },
      "outputs": [
        {
          "output_type": "stream",
          "name": "stdout",
          "text": [
            "Sorted number is [1, 10, 20, 40, 50]\n"
          ]
        }
      ],
      "source": [
        "# merge sort program\n",
        "# function defination  for sorting,it will sort in thr original list only\n",
        "def mergesort(list1):\n",
        "    # Base condition to stop recursion\n",
        "    if len(list1)>1:\n",
        "        #finding middle number\n",
        "        mid = len(list1)//2\n",
        "        # divide the list into sublist and stored in left_list\n",
        "\n",
        "        left_list = list1[:mid]\n",
        "        # divide the list into sublist and stored in right_list\n",
        "        right_list = list1[mid:]\n",
        "        # calling the same function again and again(recursion) \n",
        "        mergesort(left_list)\n",
        "        # calling the same function again and again(recursion) \n",
        "      \n",
        "        mergesort(right_list)\n",
        "        i=0\n",
        "        j=0\n",
        "        k=0\n",
        "         \n",
        "        while i<len(left_list) and j<len(right_list): \n",
        "            if left_list[i]<right_list[j]:\n",
        "                list1[k] = left_list[i]\n",
        "                i =i+1\n",
        "                k = k+1\n",
        "            else:\n",
        "                list1[k] = right_list[j]\n",
        "                j =j+1\n",
        "                k = k+1\n",
        "\n",
        "        while(i<len(left_list)):\n",
        "            list1[k] = left_list[i]\n",
        "            i = i+1\n",
        "            k =k+1     \n",
        "        \n",
        "        while(j<len(right_list)):\n",
        "            list1[k] = right_list[j]\n",
        "            j = j+1\n",
        "            k =k+1   \n",
        "# list declaration  \n",
        "list1=[20,1,50,40,10]\n",
        "# Function calling \n",
        "mergesort(list1)\n",
        "print(f'Sorted number is {list1}') \n"
      ]
    }
  ]
}