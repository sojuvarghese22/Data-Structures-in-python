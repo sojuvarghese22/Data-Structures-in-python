{
  "nbformat": 4,
  "nbformat_minor": 0,
  "metadata": {
    "colab": {
      "name": "DFS.ipynb",
      "provenance": [],
      "authorship_tag": "ABX9TyMr532rAQhhV5kbo/B04F5K",
      "include_colab_link": true
    },
    "kernelspec": {
      "name": "python3",
      "display_name": "Python 3"
    },
    "language_info": {
      "name": "python"
    }
  },
  "cells": [
    {
      "cell_type": "markdown",
      "metadata": {
        "id": "view-in-github",
        "colab_type": "text"
      },
      "source": [
        "<a href=\"https://colab.research.google.com/github/sojuvarghese22/Data-Structures-in-python/blob/main/DFS.ipynb\" target=\"_parent\"><img src=\"https://colab.research.google.com/assets/colab-badge.svg\" alt=\"Open In Colab\"/></a>"
      ]
    },
    {
      "cell_type": "code",
      "execution_count": 3,
      "metadata": {
        "colab": {
          "base_uri": "https://localhost:8080/"
        },
        "id": "bd9sUOb0KQSZ",
        "outputId": "8718f663-555a-4dcb-e792-4096421cc7b1"
      },
      "outputs": [
        {
          "output_type": "stream",
          "name": "stdout",
          "text": [
            "[0, 4, 3, 2, 1]\n"
          ]
        }
      ],
      "source": [
        "\n",
        "class graph:\n",
        "    def __init__(self,vertices,edges):\n",
        "        self.data = [[] for _ in range(vertices)]\n",
        "        for v1,v2 in edges:\n",
        "            self.data[v1].append(v2)\n",
        "            self.data[v2].append(v1)\n",
        "\n",
        "       \n",
        "vertices = 5\n",
        "edges = [(0,1),(1,2),(1,3),(1,4),(2,3),(3,4),(4,0)]\n",
        "    \n",
        "        \n",
        "#list creation        \n",
        "node1 = graph(vertices,edges)\n",
        "#variable declaration        \n",
        "vertices = 5\n",
        "#tuple creation\n",
        "edges = [(0,1),(1,2),(1,3),(1,4),(2,3),(3,4),(4,0)]\n",
        "    \n",
        "        \n",
        "#objection creation of class fraph        \n",
        "node1 = graph(vertices,edges)\n",
        "\n",
        "#Depth first search\n",
        "# function that will return visited node \n",
        "def DFS(node1,rootnode):\n",
        "    stack = [rootnode]\n",
        "    res = []\n",
        "    #initially initializing all node as unvisited\n",
        "    visited = [False]*len(node1.data)\n",
        "    while(len(stack)>0):\n",
        "        cur = stack.pop()\n",
        "        if cur not in res: \n",
        "            res.append(cur)\n",
        "        \n",
        "        visited[cur] = True\n",
        "        for i in node1.data[cur]:\n",
        "            if not visited[i]:\n",
        "                stack.append(i)\n",
        "    return res\n",
        "# function call \n",
        "print(DFS(node1,0))         \n",
        "\n",
        "\n",
        "\n",
        "\n",
        "\n"
      ]
    }
  ]
}