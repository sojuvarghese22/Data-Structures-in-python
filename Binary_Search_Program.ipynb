{
  "nbformat": 4,
  "nbformat_minor": 0,
  "metadata": {
    "colab": {
      "name": "Binary Search Program.ipynb",
      "provenance": [],
      "authorship_tag": "ABX9TyO29FQhBBS8heHuSHHKu/EN",
      "include_colab_link": true
    },
    "kernelspec": {
      "name": "python3",
      "display_name": "Python 3"
    },
    "language_info": {
      "name": "python"
    }
  },
  "cells": [
    {
      "cell_type": "markdown",
      "metadata": {
        "id": "view-in-github",
        "colab_type": "text"
      },
      "source": [
        "<a href=\"https://colab.research.google.com/github/sojuvarghese22/Data-Structures-in-python/blob/main/Binary_Search_Program.ipynb\" target=\"_parent\"><img src=\"https://colab.research.google.com/assets/colab-badge.svg\" alt=\"Open In Colab\"/></a>"
      ]
    },
    {
      "cell_type": "code",
      "execution_count": 1,
      "metadata": {
        "colab": {
          "base_uri": "https://localhost:8080/"
        },
        "id": "l1DaT_MTUf1Q",
        "outputId": "1e195d5c-9422-46c4-a267-500a836f5567"
      },
      "outputs": [
        {
          "output_type": "stream",
          "name": "stdout",
          "text": [
            "Postion of searched number 12\n"
          ]
        }
      ],
      "source": [
        "# Binarysearch function which will return  the position of required number  \n",
        "\n",
        "def binarysearch(li,q):\n",
        "    # variable declaration\n",
        "    low =0\n",
        "    high = len(li)-1\n",
        "    # indefinite loop for giving postion of the required number\n",
        "    while(low<=high):\n",
        "        mid = (low+high)//2\n",
        "        # function called which will return whether number found and if duplicate number found then in which direction ie left or right subarray to research\n",
        "        loc = locationofelement(li,q,mid)\n",
        "        \n",
        "        if loc == True:\n",
        "            return mid\n",
        "        elif loc == 'left':\n",
        "            high = mid-1\n",
        "        elif loc == 'right':\n",
        "            low = mid+1\n",
        "            \n",
        "# locationofelement function will return if number found or have to find search in left or right subarray\n",
        "def locationofelement(li,q,mid):\n",
        "    # if number found then will check whether its before number is same or not if same than return that have to research in left \n",
        "    if li[mid]==q:\n",
        "        if li[mid-1] == q:\n",
        "            return 'left'\n",
        "        else:\n",
        "            return True\n",
        "\n",
        "   # if number not found than it will retuen right it means you have to again search in right subarray\n",
        "    elif li[mid]>q:\n",
        "        return 'right'\n",
        "   # if number not found than it will return left it means you have to again search in left subarray     \n",
        "    else:\n",
        "        return 'left'        \n",
        "                \n",
        "#list\n",
        "li=[8,8,6,6,6,6,6,6,3,2,2,2,0,0,0]\n",
        "# variable declaration\n",
        "q = 0\n",
        "# function to find the position of required number\n",
        "print(\"Postion of searched number\", binarysearch(li,q))\n",
        "\n",
        "\n"
      ]
    }
  ]
}