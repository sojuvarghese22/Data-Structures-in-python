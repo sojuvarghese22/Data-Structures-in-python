{
  "nbformat": 4,
  "nbformat_minor": 0,
  "metadata": {
    "colab": {
      "name": "userdatabaseprogramsusingclassandobject.ipynb",
      "provenance": [],
      "authorship_tag": "ABX9TyNjAMVlcqAnqexuZ4aF5nQx",
      "include_colab_link": true
    },
    "kernelspec": {
      "name": "python3",
      "display_name": "Python 3"
    },
    "language_info": {
      "name": "python"
    }
  },
  "cells": [
    {
      "cell_type": "markdown",
      "metadata": {
        "id": "view-in-github",
        "colab_type": "text"
      },
      "source": [
        "<a href=\"https://colab.research.google.com/github/sojuvarghese22/Data-Structures-in-python/blob/main/userdatabaseprogramsusingclassandobject.ipynb\" target=\"_parent\"><img src=\"https://colab.research.google.com/assets/colab-badge.svg\" alt=\"Open In Colab\"/></a>"
      ]
    },
    {
      "cell_type": "code",
      "execution_count": 26,
      "metadata": {
        "colab": {
          "base_uri": "https://localhost:8080/"
        },
        "id": "APQPLyVgK_qD",
        "outputId": "a5488b33-5fbf-46f3-f09b-ffd0410a6adc"
      },
      "outputs": [
        {
          "output_type": "stream",
          "name": "stdout",
          "text": [
            "username:ab,name:abhilash,email:abhilash@\n",
            "ab\n",
            "ss\n",
            "sv\n"
          ]
        }
      ],
      "source": [
        "# User class\n",
        "class User:\n",
        "    def __init__(self,username,name,email):\n",
        "        self.username = username\n",
        "        self.name = name\n",
        "        self.email = email\n",
        "    def __str__(self):\n",
        "      return f\"username:{self.username},name:{self.name},email:{self.email}\"\n",
        "\n",
        "#object creation of User class\n",
        "soju = User('sv','soju','soju@')\n",
        "sonu = User('ss','sonu','sonu@')\n",
        "abhilash = User('ab','abhilash','abhilash@')\n",
        "\n",
        "# Userdatabase class\n",
        "class Userdatabase:\n",
        "    \n",
        "    def __init__(self):\n",
        "        self.users = []\n",
        "    # method for inserting new user into user database array\n",
        "    def insert(self,user):\n",
        "        i = 0\n",
        "        while  i < len(self.users):\n",
        "            if user.username<self.users[i].username:\n",
        "                break\n",
        "            i = i+1\n",
        "        self.users.insert(i,user)\n",
        "\n",
        "    # method for finding existing user in user database array\n",
        "\n",
        "    def find(self, username):\n",
        "        for user in self.users:\n",
        "            if user.username == username:\n",
        "                return user\n",
        "    \n",
        "\n",
        "\n",
        "   \n",
        "   \n",
        "   \n",
        "  # method which will show all user from user database array  \n",
        "    def display(self):\n",
        "        return self.users\n",
        "#object creation of Userdatabase class        \n",
        "obj = Userdatabase()\n",
        "#function call using object for inserting new user in database\n",
        "obj.insert(soju)\n",
        "obj.insert(sonu)\n",
        "obj.insert(abhilash)\n",
        "\n",
        "print(obj.find('ab'))\n",
        "\n",
        "\n",
        "#function call using object, after that looping through the return list for retrieving data\n",
        "for i in obj.display():\n",
        "    print(i.username)"
      ]
    }
  ]
}